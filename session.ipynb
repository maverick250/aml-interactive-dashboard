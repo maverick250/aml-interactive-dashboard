{
 "cells": [
  {
   "cell_type": "markdown",
   "id": "48f46cb1",
   "metadata": {},
   "source": []
  },
  {
   "cell_type": "code",
   "execution_count": 11,
   "id": "177fd4e2",
   "metadata": {},
   "outputs": [],
   "source": [
    "\"\"\"\n",
    "Multi‑Agent Proof‑of‑Concept using LangChain + LangGraph\n",
    "=======================================================\n",
    "• Router node (LLM) → decides which specialist agent should handle the user input.\n",
    "• Specialist agents:\n",
    "    1. Web‑Search Agent  – uses Serper.dev to retrieve live information.\n",
    "    2. Generic Assistant – a normal conversational agent.\n",
    "\n",
    "Designed for use in a Jupyter notebook *or* as a stand‑alone script.\n",
    "Modular layout makes it easy to extend each sub‑agent with its own tools.\n",
    "\"\"\"\n",
    "\n",
    "from pathlib import Path\n",
    "import os\n",
    "from dotenv import load_dotenv"
   ]
  },
  {
   "cell_type": "code",
   "execution_count": 12,
   "id": "95323610",
   "metadata": {},
   "outputs": [],
   "source": [
    "from typing import List, Dict, Any\n",
    "import requests\n",
    "\n",
    "from langchain.chat_models import ChatOpenAI\n",
    "from langchain.schema import SystemMessage, HumanMessage\n",
    "from langchain.agents import Tool, initialize_agent, AgentExecutor, AgentType\n",
    "\n",
    "# LangGraph (for orchestrating the nodes)\n",
    "from langgraph.graph import StateGraph"
   ]
  },
  {
   "cell_type": "code",
   "execution_count": 13,
   "id": "f5cbaa5f",
   "metadata": {},
   "outputs": [],
   "source": [
    "OPENAI_API_KEY = os.getenv(\"OPENAI_API_KEY\")\n",
    "SERPER_API_KEY = os.getenv(\"SERPER_API_KEY\")\n",
    "SERPER_BASE_URL = os.getenv(\"SERPER_BASE_URL\", \"https://google.serper.dev/\")"
   ]
  },
  {
   "cell_type": "code",
   "execution_count": 14,
   "id": "7897e841",
   "metadata": {},
   "outputs": [],
   "source": [
    "llm_router = ChatOpenAI(\n",
    "    model=\"gpt-4o-mini\", temperature=0, openai_api_key=OPENAI_API_KEY\n",
    ")\n",
    "\n",
    "llm_generic = ChatOpenAI(\n",
    "    model=\"gpt-4o-mini\", temperature=0.2, openai_api_key=OPENAI_API_KEY\n",
    ")"
   ]
  },
  {
   "cell_type": "code",
   "execution_count": 15,
   "id": "d1572b23",
   "metadata": {},
   "outputs": [],
   "source": [
    "# ───────────────────────────── Serper Search Tool ──────────────────────\n",
    "from langchain_community.utilities.google_serper import GoogleSerperAPIWrapper\n",
    "from langchain_community.tools.google_serper.tool import GoogleSerperRun\n",
    "from langchain.tools import RequestsGetTool   \n",
    "\n",
    "serper_wrapper = GoogleSerperAPIWrapper()            # uses SERPER_API_KEY\n",
    "search_tool    = GoogleSerperRun(api_wrapper=serper_wrapper)\n",
    "#read_url_tool  = RequestsGetTool()  \n",
    "\n",
    "search_tools = [search_tool] "
   ]
  },
  {
   "cell_type": "code",
   "execution_count": 16,
   "id": "261d517c",
   "metadata": {},
   "outputs": [],
   "source": [
    "# ─────────────────────────── Specialist Agents ─────────────────────────\n",
    "SYSTEM_PROMPT_SEARCH = (\n",
    "    \"You are the **Web‑Search Agent**. Use the `serper_search` tool provided to look up \"\n",
    "    \"information on the public internet. Cite the search findings when you answer.\\n\\n\"\n",
    "    \"If the user's question cannot be answered with a web search, reply **only** with\\n\"\n",
    "    \"`SEARCH_AGENT_UNABLE`.\"\n",
    ")\n",
    "\n",
    "SYSTEM_PROMPT_GENERIC = (\n",
    "    \"You are the **Generic Assistant Agent**. Hold open‑ended conversations, explain\\n\"\n",
    "    \"concepts, write code – anything that does not need fresh web data.\\n\\n\"\n",
    "    \"If the user explicitly asks for current events outside your knowledge, reply **only** with\\n\"\n",
    "    \"`GENERIC_AGENT_UNABLE`.\"\n",
    ")"
   ]
  },
  {
   "cell_type": "code",
   "execution_count": 17,
   "id": "e21bd3cf",
   "metadata": {},
   "outputs": [
    {
     "name": "stderr",
     "output_type": "stream",
     "text": [
      "C:\\Users\\pierre.leroux\\AppData\\Local\\Temp\\ipykernel_12576\\3635514508.py:1: LangChainDeprecationWarning: LangChain agents will continue to be supported, but it is recommended for new use cases to be built with LangGraph. LangGraph offers a more flexible and full-featured framework for building agents, including support for tool-calling, persistence of state, and human-in-the-loop workflows. For details, refer to the `LangGraph documentation <https://langchain-ai.github.io/langgraph/>`_ as well as guides for `Migrating from AgentExecutor <https://python.langchain.com/docs/how_to/migrate_agent/>`_ and LangGraph's `Pre-built ReAct agent <https://langchain-ai.github.io/langgraph/how-tos/create-react-agent/>`_.\n",
      "  search_agent: AgentExecutor = initialize_agent(\n",
      "C:\\Users\\pierre.leroux\\AppData\\Local\\Temp\\ipykernel_12576\\3635514508.py:15: LangChainDeprecationWarning: Please see the migration guide at: https://python.langchain.com/docs/versions/migrating_memory/\n",
      "  generic_memory = ConversationBufferMemory(memory_key=\"history\", return_messages=True)\n",
      "C:\\Users\\pierre.leroux\\AppData\\Local\\Temp\\ipykernel_12576\\3635514508.py:16: LangChainDeprecationWarning: The class `ConversationChain` was deprecated in LangChain 0.2.7 and will be removed in 1.0. Use :class:`~langchain_core.runnables.history.RunnableWithMessageHistory` instead.\n",
      "  generic_agent = ConversationChain(\n"
     ]
    }
   ],
   "source": [
    "search_agent: AgentExecutor = initialize_agent(\n",
    "    tools=search_tools,\n",
    "    llm=llm_generic,\n",
    "    agent=AgentType.OPENAI_FUNCTIONS,\n",
    "    verbose=True,\n",
    "    system_message=SystemMessage(content=SYSTEM_PROMPT_SEARCH),\n",
    ")\n",
    "\n",
    "# ─── Generic conversational agent ────────────────────────────────────────────\n",
    "from langchain.chains import ConversationChain\n",
    "from langchain.memory import ConversationBufferMemory\n",
    "\n",
    "\n",
    "## 5b. Generic conversational agent – ConversationChain (no functions array, no tools)\n",
    "generic_memory = ConversationBufferMemory(memory_key=\"history\", return_messages=True)\n",
    "generic_agent = ConversationChain(\n",
    "    llm=llm_generic,\n",
    "    memory=generic_memory,\n",
    "    verbose=False,\n",
    ")"
   ]
  },
  {
   "cell_type": "code",
   "execution_count": 18,
   "id": "175f1206",
   "metadata": {},
   "outputs": [],
   "source": [
    "# ─────────────────────────────── Router LLM ────────────────────────────\n",
    "ROUTER_PROMPT = (\n",
    "    \"You are the **Router Agent**. Decide whether the user's message needs a live web\\n\"\n",
    "    \"search or can be handled by the generic assistant.\\n\\n\"\n",
    "    \"Return exactly one word:**\\n\"\n",
    "    \"  • `SEARCH`  – if an up‑to‑date factual lookup is required\\n\"\n",
    "    \"  • `GENERIC` – for everything else\\n\\n\"\n",
    "    \"Never output anything other than those two tokens.\"\n",
    ")\n",
    "\n",
    "def route(user_input: str) -> str:\n",
    "    decision = llm_router([\n",
    "        SystemMessage(content=ROUTER_PROMPT),\n",
    "        HumanMessage(content=user_input),\n",
    "    ]).content.strip().upper()\n",
    "    return \"SEARCH\" if decision == \"SEARCH\" else \"GENERIC\"\n"
   ]
  },
  {
   "cell_type": "code",
   "execution_count": 19,
   "id": "cd5279e4",
   "metadata": {},
   "outputs": [],
   "source": [
    "# ────────────────────────────── LangGraph Flow ─────────────────────────\n",
    "class AgentState(dict):\n",
    "    \"\"\"Mutable state passed between nodes.\"\"\"\n",
    "    messages: List[Dict[str, str]]  # running chat transcript\n",
    "    last_user_msg: str             # the raw user input\n",
    "    route: str | None                     # label chosen by router\n",
    "\n",
    "\n",
    "def router_node(state: AgentState) -> AgentState:\n",
    "    user_msg: str = state[\"last_user_msg\"]\n",
    "    route_label = route(user_msg) \n",
    "    print(f\"🛣️  Router → {route_label}\") \n",
    "    state[\"route\"] = route(user_msg)\n",
    "    return state\n",
    "\n",
    "\n",
    "def search_agent_node(state: AgentState) -> AgentState:\n",
    "    user_msg: str = state[\"last_user_msg\"]\n",
    "    answer = search_agent.run(user_msg)\n",
    "    print(\"🔍 Search-agent finished\") \n",
    "    state.setdefault(\"messages\", []).append({\"role\": \"assistant\", \"content\": answer})\n",
    "    return state\n",
    "\n",
    "\n",
    "def generic_agent_node(state: AgentState) -> AgentState:\n",
    "    user_msg: str = state[\"last_user_msg\"]\n",
    "    answer = generic_agent.run(user_msg)\n",
    "    print(\"🔍 Generic-agent finished\") \n",
    "    state.setdefault(\"messages\", []).append({\"role\": \"assistant\", \"content\": answer})\n",
    "    return state\n",
    "\n",
    "# Build graph\n",
    "sg = StateGraph(AgentState)\n",
    "sg.add_node(\"router\", router_node)\n",
    "sg.add_node(\"search_agent\", search_agent_node)\n",
    "sg.add_node(\"generic_agent\", generic_agent_node)\n",
    "\n",
    "# Conditional edges\n",
    "sg.add_conditional_edges(\"router\", lambda s: s[\"route\"], {\n",
    "    \"SEARCH\": \"search_agent\",\n",
    "    \"GENERIC\": \"generic_agent\",\n",
    "})\n",
    "\n",
    "sg.set_entry_point(\"router\")\n",
    "\n",
    "multi_agent_graph = sg.compile()"
   ]
  },
  {
   "cell_type": "code",
   "execution_count": null,
   "id": "a7c63911",
   "metadata": {},
   "outputs": [
    {
     "name": "stdout",
     "output_type": "stream",
     "text": [
      "🤖  Multi‑Agent POC ready. Ask me anything!  (Press Ctrl‑C to quit)\n",
      "\n"
     ]
    },
    {
     "name": "stderr",
     "output_type": "stream",
     "text": [
      "C:\\Users\\pierre.leroux\\AppData\\Local\\Temp\\ipykernel_12576\\3390523192.py:12: LangChainDeprecationWarning: The method `BaseChatModel.__call__` was deprecated in langchain-core 0.1.7 and will be removed in 1.0. Use :meth:`~invoke` instead.\n",
      "  decision = llm_router([\n"
     ]
    },
    {
     "name": "stdout",
     "output_type": "stream",
     "text": [
      "🛣️  Router → SEARCH\n"
     ]
    },
    {
     "name": "stderr",
     "output_type": "stream",
     "text": [
      "C:\\Users\\pierre.leroux\\AppData\\Local\\Temp\\ipykernel_12576\\4283351327.py:19: LangChainDeprecationWarning: The method `Chain.run` was deprecated in langchain 0.1.0 and will be removed in 1.0. Use :meth:`~invoke` instead.\n",
      "  answer = search_agent.run(user_msg)\n"
     ]
    },
    {
     "name": "stdout",
     "output_type": "stream",
     "text": [
      "\n",
      "\n",
      "\u001b[1m> Entering new AgentExecutor chain...\u001b[0m\n",
      "\u001b[32;1m\u001b[1;3m\n",
      "Invoking: `google_serper` with `{'query': 'latest news on MrBeast'}`\n",
      "\n",
      "\n",
      "\u001b[0m\u001b[36;1m\u001b[1;3mMrBeast says game show allegations 'blown out of proportion'​​ Beast Games is set to stream next month amid allegations contestants were mistreated on set. MrBeast faces shock lawsuit from contestants on new Prime Video show. The Youtuber is being sued along with Amazon over allegations of a toxic work environment ... MrBeast Reveals He Lost Over $10 Million On Beast Games: \"I Am An Idiot\" ... MrBeast explained that he reinvested a lot of his income back into his brands and ... 75M followers · 710 following · 402 posts · @mrbeast: “New MrBeast or MrBeast Gaming video every single Saturday at noon eastern time!” MrBeast Top Stories. Musk, MrBeast or Shark Tank star: Who might buy TikTok after Trump's ultimatum? 21 Jan21st January Science & Tech. YouTube star MrBeast ... YouTuber MrBeast has disclosed a massive financial loss amounting to \"tens of millions of dollars\" from the production of his Amazon Prime Video series, \"Beast ... MrBeast updates · @mrbeast_update. ·. Jul 6. MrBeast is in Tareq's Instagram post! \"We got to film with some of the wildest animals in the new MrBeast video! New Uploads ; World's Fastest Car Vs Cheetah! · 76M views. 3 days ago ; Lose 100 LBs, Win $250,000! · 163M views. 2 weeks ago ; $1 vs $500,000 Romantic Date · 101M ... The African wells built by Mr. Beast have not been maintained and are no longer operating.\u001b[0m\u001b[32;1m\u001b[1;3mThe latest news on MrBeast includes several significant developments:\n",
      "\n",
      "1. **Allegations and Lawsuit**: MrBeast is facing allegations of mistreatment of contestants on the set of his new Prime Video show, \"Beast Games.\" He, along with Amazon, is being sued over claims of a toxic work environment. MrBeast has responded to these allegations, stating that they have been \"blown out of proportion.\"\n",
      "\n",
      "2. **Financial Loss**: MrBeast revealed that he lost over $10 million on the production of \"Beast Games,\" admitting that he reinvested a lot of his income back into his brands, which has resulted in significant financial losses.\n",
      "\n",
      "3. **Upcoming Streaming**: Despite the controversies, \"Beast Games\" is set to stream next month.\n",
      "\n",
      "These developments highlight both the challenges and the ongoing projects in MrBeast's career as a prominent YouTuber and content creator.\u001b[0m\n",
      "\n",
      "\u001b[1m> Finished chain.\u001b[0m\n",
      "🔍 Search-agent finished\n",
      "Assistant: The latest news on MrBeast includes several significant developments:\n",
      "\n",
      "1. **Allegations and Lawsuit**: MrBeast is facing allegations of mistreatment of contestants on the set of his new Prime Video show, \"Beast Games.\" He, along with Amazon, is being sued over claims of a toxic work environment. MrBeast has responded to these allegations, stating that they have been \"blown out of proportion.\"\n",
      "\n",
      "2. **Financial Loss**: MrBeast revealed that he lost over $10 million on the production of \"Beast Games,\" admitting that he reinvested a lot of his income back into his brands, which has resulted in significant financial losses.\n",
      "\n",
      "3. **Upcoming Streaming**: Despite the controversies, \"Beast Games\" is set to stream next month.\n",
      "\n",
      "These developments highlight both the challenges and the ongoing projects in MrBeast's career as a prominent YouTuber and content creator.\n"
     ]
    }
   ],
   "source": [
    "# ───────────────────────────── Convenience API ─────────────────────────\n",
    "def ask(message: str, state: AgentState | None = None) -> str:\n",
    "    \"\"\"Single‑shot helper (creates & returns a new state each call if omitted).\"\"\"\n",
    "    state = state or {\"messages\": []}\n",
    "    state[\"last_user_msg\"] = message\n",
    "    new_state = multi_agent_graph.invoke(state)\n",
    "    return new_state[\"messages\"][-1][\"content\"]\n",
    "\n",
    "# ──────────────────────────────── ⏯ REPL ──────────────────────────────\n",
    "if __name__ == \"__main__\":\n",
    "    print(\"🤖  Multi‑Agent POC ready. Ask me anything!  (Press Ctrl‑C to quit)\\n\")\n",
    "    state: AgentState = {\"messages\": []}\n",
    "    try:\n",
    "        while True:\n",
    "            user_input = input(\"User: \")\n",
    "            if not user_input.strip():\n",
    "                continue\n",
    "            state[\"last_user_msg\"] = user_input\n",
    "            state = multi_agent_graph.invoke(state)\n",
    "            print(\"Assistant:\", state[\"messages\"][-1][\"content\"])\n",
    "    except KeyboardInterrupt:\n",
    "        print(\"\\n👋  Bye!\")"
   ]
  }
 ],
 "metadata": {
  "kernelspec": {
   "display_name": ".venv",
   "language": "python",
   "name": "python3"
  },
  "language_info": {
   "codemirror_mode": {
    "name": "ipython",
    "version": 3
   },
   "file_extension": ".py",
   "mimetype": "text/x-python",
   "name": "python",
   "nbconvert_exporter": "python",
   "pygments_lexer": "ipython3",
   "version": "3.12.7"
  }
 },
 "nbformat": 4,
 "nbformat_minor": 5
}
